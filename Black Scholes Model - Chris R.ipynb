{
 "cells": [
  {
   "cell_type": "code",
   "execution_count": 7,
   "metadata": {},
   "outputs": [
    {
     "name": "stdout",
     "output_type": "stream",
     "text": [
      "Are you pricing a Call or Put? (c/p): c\n",
      "What is the stock price?: 125\n",
      "What is the strike price?: 125\n",
      "What is the current interest rate?: 0.01\n",
      "What is the current dividend yield?: 0.000001\n",
      "What is the stock volatility(σ)?: 0.2\n",
      "How many days until expiration?: 30\n",
      "The Call option price is: $2.91\n"
     ]
    }
   ],
   "source": [
    "#Black Scholes Model for European Option Pricing\n",
    "###########################################################################################\n",
    "import numpy as np\n",
    "from scipy.stats import norm\n",
    "from math import exp,sqrt,log\n",
    "###########################################################################################\n",
    "optiontype= (input(\"Are you pricing a Call or Put? (c/p): \"))\n",
    "stockprice= float(input(\"What is the stock price?: \"))   \n",
    "strikeprice= float(input(\"What is the strike price?: \")) \n",
    "interestrate= float(input(\"What is the current interest rate?: \"))     \n",
    "dividendrate= float(input(\"What is the current dividend yield?: \"))         \n",
    "sigma= float(input(\"What is the stock volatility(σ)?: \")) \n",
    "expirydate= float(input(\"How many days until expiration?: \"))  \n",
    "###########################################################################################\n",
    "d1 = (log(stockprice*(exp((-dividendrate*expirydate)/365))/strikeprice)+(interestrate+.5*(sigma**2))*expirydate/365)/(sqrt((expirydate)/365)*sigma)\n",
    "d2 = d1-(sqrt((expirydate)/365)*sigma)\n",
    "###########################################################################################\n",
    "callprice = round(stockprice*(exp((-dividendrate*expirydate)/365))*(norm.cdf(d1))-strikeprice*(exp((-interestrate*expirydate)/365))*(norm.cdf(d2)),2)\n",
    "putprice = round(strikeprice*(exp((-interestrate*expirydate)/365))*(norm.cdf(-d2))-stockprice*(exp((-dividendrate*expirydate)/365))*(norm.cdf(-d1)),2)\n",
    "###########################################################################################\n",
    "if optiontype == \"c\":\n",
    "    print(\"The Call option price is: $\" + str(callprice))\n",
    "else:\n",
    "    print(\"The Put option price is: $\" + str(putprice))\n",
    "###########################################################################################"
   ]
  }
 ],
 "metadata": {
  "kernelspec": {
   "display_name": "Python 3",
   "language": "python",
   "name": "python3"
  },
  "language_info": {
   "codemirror_mode": {
    "name": "ipython",
    "version": 3
   },
   "file_extension": ".py",
   "mimetype": "text/x-python",
   "name": "python",
   "nbconvert_exporter": "python",
   "pygments_lexer": "ipython3",
   "version": "3.7.0"
  }
 },
 "nbformat": 4,
 "nbformat_minor": 2
}
